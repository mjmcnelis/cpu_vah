{
 "cells": [
  {
   "cell_type": "code",
   "execution_count": 2,
   "metadata": {},
   "outputs": [],
   "source": [
    "import pandas as pd\n",
    "import numpy as np\n",
    "import matplotlib.pyplot as plt\n",
    "import seaborn as sns\n",
    "from pandas.plotting import scatter_matrix"
   ]
  },
  {
   "cell_type": "code",
   "execution_count": 9,
   "metadata": {},
   "outputs": [
    {
     "name": "stdout",
     "output_type": "stream",
     "text": [
      "Hydrodynamic simulation mode = vh2\n",
      "\n",
      "Loading training data...\n",
      "\n",
      "Training data shape = (999, 17)\n"
     ]
    }
   ],
   "source": [
    "hydro_mode = 'vah'\n",
    "\n",
    "print('Hydrodynamic simulation mode =', hydro_mode)\n",
    "print()\n",
    "print('Loading training data...\\n')\n",
    "train_data = np.loadtxt('../tests/auto_grid/train_data/' + hydro_mode + '/train_data.dat')\n",
    "\n",
    "# remove outliers\n",
    "radius_mean = train_data[:,-2]\n",
    "train_data = train_data[radius_mean < 13]  \n",
    "radius_mean = train_data[:,-2]\n",
    "train_data = train_data[radius_mean > 5]  \n",
    "print('Training data shape =', train_data.shape)\n"
   ]
  },
  {
   "cell_type": "code",
   "execution_count": null,
   "metadata": {},
   "outputs": [],
   "source": []
  },
  {
   "cell_type": "code",
   "execution_count": 10,
   "metadata": {},
   "outputs": [],
   "source": [
    "train_data_df = pd.DataFrame({\n",
    "    'b':   train_data[:,0],  'N':    train_data[:,1],  'p':       train_data[:,2],\n",
    "    'w':   train_data[:,3],  'dmin': train_data[:,4],  'sigmak':  train_data[:,5],\n",
    "    'Tsw': train_data[:,6],  'Tk':   train_data[:,7],  'etask':   train_data[:,8],\n",
    "    'aL':  train_data[:,9],  'aH':   train_data[:,10], 'zetasN':  train_data[:,11],\n",
    "    'Tp':  train_data[:,12], 'wz':   train_data[:,13], 'lambdaz': train_data[:,14],\n",
    "    \n",
    "    'radius_mean': train_data[:,15], 'radius_std': train_data[:,16]})"
   ]
  },
  {
   "cell_type": "code",
   "execution_count": null,
   "metadata": {},
   "outputs": [],
   "source": []
  },
  {
   "cell_type": "code",
   "execution_count": 1,
   "metadata": {
    "scrolled": false
   },
   "outputs": [],
   "source": [
    "# print('Total correlation matrix')\n",
    "# scatter_matrix(train_data_df, figsize = (20,20), alpha = 1, s = 10)\n",
    "# plt.show()\n"
   ]
  },
  {
   "cell_type": "code",
   "execution_count": null,
   "metadata": {},
   "outputs": [],
   "source": []
  },
  {
   "cell_type": "code",
   "execution_count": 2,
   "metadata": {
    "scrolled": true
   },
   "outputs": [],
   "source": [
    "\n",
    "#train_data_df.corr().style.background_gradient(cmap = 'coolwarm').set_precision(3)\n"
   ]
  },
  {
   "cell_type": "code",
   "execution_count": 4,
   "metadata": {
    "scrolled": true
   },
   "outputs": [],
   "source": [
    "# Feature selection for radius mean model:\n",
    "# [b, p, w, dmin, Tsw] = [0,2,3,4,6]\n",
    "\n",
    "\n",
    "train_X_radius_mean = train_data[:,[0,2,3,4,6]]\n",
    "train_y_radius_mean = train_data[:,-2]\n",
    "\n",
    "train_radius_mean_df = pd.DataFrame({\n",
    "    'b [fm]':         train_X_radius_mean[:,0], \n",
    "    'p':              train_X_radius_mean[:,1],\n",
    "    'w [fm]':         train_X_radius_mean[:,2],\n",
    "    'd$_{min}$ [fm]': train_X_radius_mean[:,3], \n",
    "    'T$_{sw}$ [GeV]': train_X_radius_mean[:,4], \n",
    "    'r\\u0304 [fm]':   train_y_radius_mean})\n",
    "\n",
    "#scatter = scatter_matrix(train_radius_mean_df, figsize = (10,10), alpha = 1, s = 10, hist_kwds={'normed':True}, range_padding=0.1)\n",
    "scatter = scatter_matrix(train_radius_mean_df, figsize = (10,10), alpha = 1, s = 10, hist_kwds={'bins':10})\n",
    "\n",
    "\n",
    "for ax in scatter.ravel():\n",
    "    ax.set_xlabel(ax.get_xlabel(), fontsize = 10, rotation = 0)\n",
    "    ax.set_ylabel(ax.get_ylabel(), fontsize = 10, rotation = 90)\n",
    "\n",
    "# scatter.ravel()[0].set_ylim(0,150)\n",
    "# scatter.ravel()[0].set_yticks([0,5,10,15])\n",
    "# scatter.ravel()[0].set_yticklabels(['0','5','10','15'])\n",
    "# scatter.ravel()[0].set_yticklabels(['0','5','10','15'])\n",
    "\n",
    "angle = 0\n",
    "\n",
    "# p (y-axis)\n",
    "scatter.ravel()[6].set_ylim(-0.7, 0.7)\n",
    "scatter.ravel()[6].set_yticks([-0.6, 0, 0.6])\n",
    "scatter.ravel()[6].set_yticklabels(['-0.6', '0', '0.6'])\n",
    "# w (y-axis)\n",
    "scatter.ravel()[12].set_ylim(0.5, 1.5)\n",
    "scatter.ravel()[12].set_yticks([0.6, 1.0, 1.4])\n",
    "scatter.ravel()[12].set_yticklabels(['0.6','1','1.4'])\n",
    "# dmin (y-axis)\n",
    "scatter.ravel()[18].set_ylim(0, 1.7)\n",
    "scatter.ravel()[18].set_yticks([0.1, 0.85, 1.6])\n",
    "scatter.ravel()[18].set_yticklabels(['0.1','0.85','1.6'])\n",
    "# Tsw (y-axis)\n",
    "scatter.ravel()[24].set_ylim(0.135, 0.165)\n",
    "scatter.ravel()[24].set_yticks([0.14, 0.15, 0.16])\n",
    "scatter.ravel()[24].set_yticklabels(['0.14', '0.15', '0.16'])\n",
    "# r (y-axis)\n",
    "scatter.ravel()[30].set_ylim(5, 13)\n",
    "scatter.ravel()[30].set_yticks([6, 9, 12])\n",
    "scatter.ravel()[30].set_yticklabels(['6', '9', '12'])\n",
    "# b (x-axis)\n",
    "scatter.ravel()[30].set_xlim(0, 14)\n",
    "scatter.ravel()[30].set_xticks([0, 5, 10])\n",
    "scatter.ravel()[30].set_xticklabels(['0', '5', '10'], rotation = angle)\n",
    "# p (x-axis)\n",
    "scatter.ravel()[31].set_xlim(-0.7, 0.7)\n",
    "scatter.ravel()[31].set_xticks([-0.6, 0, 0.6])\n",
    "scatter.ravel()[31].set_xticklabels(['-0.6', '0', '0.6'], rotation = angle)\n",
    "# w (x-axis)\n",
    "scatter.ravel()[32].set_xlim(0.5, 1.5)\n",
    "scatter.ravel()[32].set_xticks([0.6, 1.0, 1.4])\n",
    "scatter.ravel()[32].set_xticklabels(['0.6','1','1.4'], rotation = angle)\n",
    "# dmin (x-axis)\n",
    "scatter.ravel()[33].set_xlim(0, 1.7)\n",
    "scatter.ravel()[33].set_xticks([0.1, 0.85, 1.6])\n",
    "scatter.ravel()[33].set_xticklabels(['0.1','0.85','1.6'], rotation = angle)\n",
    "# Tsw (x-axis)\n",
    "scatter.ravel()[34].set_xlim(0.135, 0.165)\n",
    "scatter.ravel()[34].set_xticks([0.14, 0.15, 0.16])\n",
    "scatter.ravel()[34].set_xticklabels(['0.14', '0.15', '0.16'], rotation = angle)\n",
    "# r (x-axis)\n",
    "scatter.ravel()[35].set_xlim(5, 13)\n",
    "scatter.ravel()[35].set_xticks([6, 9, 12])\n",
    "scatter.ravel()[35].set_xticklabels(['6', '9', '12'], rotation = angle)\n",
    "\n",
    "\n",
    "plt.savefig('figures/' + hydro_mode + '/scatter_mean.pdf')\n",
    "\n",
    "# print(\"Radius mean correlation matrix\")\n",
    "# train_radius_mean_df.corr().style.background_gradient(cmap = 'coolwarm').set_precision(3)"
   ]
  },
  {
   "cell_type": "code",
   "execution_count": null,
   "metadata": {},
   "outputs": [],
   "source": []
  },
  {
   "cell_type": "code",
   "execution_count": 64,
   "metadata": {
    "scrolled": true
   },
   "outputs": [],
   "source": [
    "# Feature selection for radius std model:\n",
    "# [b, p, w, sigmak] = [0,2,3,5]\n",
    "\n",
    "# train_X_radius_std = train_data[:,[0,2,3,5]]\n",
    "# train_y_radius_std = train_data[:,-1]\n",
    "\n",
    "# train_radius_std_df = pd.DataFrame({\n",
    "#     'b': train_X_radius_std[:,0], 'p':      train_X_radius_std[:,1], \n",
    "#     'w': train_X_radius_std[:,2], 'sigmak': train_X_radius_std[:,3],\n",
    "\n",
    "#     'radius_std': train_y_radius_std})\n",
    "\n",
    "#my_scatter = scatter_matrix(train_radius_std_df, figsize = (10,10), alpha = 1, s = 10)\n",
    "\n",
    "#print(\"Radius std correlation matrix\")\n",
    "#train_radius_std_df.corr().style.background_gradient(cmap = 'coolwarm').set_precision(3)"
   ]
  },
  {
   "cell_type": "code",
   "execution_count": null,
   "metadata": {},
   "outputs": [],
   "source": []
  }
 ],
 "metadata": {
  "kernelspec": {
   "display_name": "Python 3",
   "language": "python",
   "name": "python3"
  },
  "language_info": {
   "codemirror_mode": {
    "name": "ipython",
    "version": 3
   },
   "file_extension": ".py",
   "mimetype": "text/x-python",
   "name": "python",
   "nbconvert_exporter": "python",
   "pygments_lexer": "ipython3",
   "version": "3.7.3"
  }
 },
 "nbformat": 4,
 "nbformat_minor": 2
}
