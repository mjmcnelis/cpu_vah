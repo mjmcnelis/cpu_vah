{
 "cells": [
  {
   "cell_type": "code",
   "execution_count": null,
   "metadata": {},
   "outputs": [],
   "source": [
    "import pandas as pd\n",
    "import numpy as np\n",
    "import matplotlib.pyplot as plt\n",
    "import seaborn as sns\n",
    "from pandas.plotting import scatter_matrix"
   ]
  },
  {
   "cell_type": "code",
   "execution_count": null,
   "metadata": {},
   "outputs": [],
   "source": [
    "train_data = np.loadtxt('train/train_data.dat')"
   ]
  },
  {
   "cell_type": "code",
   "execution_count": null,
   "metadata": {},
   "outputs": [],
   "source": [
    "train_data_df = pd.DataFrame({\n",
    "    'b':   train_data[:,0],  'N':    train_data[:,1],  'p':       train_data[:,2],\n",
    "    'w':   train_data[:,3],  'dmin': train_data[:,4],  'sigmak':  train_data[:,5],\n",
    "    'Tsw': train_data[:,6],  'Tk':   train_data[:,7],  'etask':   train_data[:,8],\n",
    "    'aL':  train_data[:,9],  'aH':   train_data[:,10], 'zetasN':  train_data[:,11],\n",
    "    'Tp':  train_data[:,12], 'wz':   train_data[:,13], 'lambdaz': train_data[:,14],\n",
    "    \n",
    "    'radius_mean': train_data[:,15], 'radius_std': train_data[:,16]})\n",
    "\n",
    "train_data_df.head()"
   ]
  },
  {
   "cell_type": "code",
   "execution_count": null,
   "metadata": {},
   "outputs": [],
   "source": [
    "print('Total correlation matrix')\n",
    "scatter_matrix(train_data_df, figsize = (20,20), alpha = 1, s = 10)\n",
    "plt.show()"
   ]
  },
  {
   "cell_type": "code",
   "execution_count": null,
   "metadata": {
    "scrolled": true
   },
   "outputs": [],
   "source": [
    "train_data_df.corr().style.background_gradient(cmap = 'coolwarm').set_precision(3)"
   ]
  },
  {
   "cell_type": "code",
   "execution_count": null,
   "metadata": {},
   "outputs": [],
   "source": [
    "# Feature selection for radius mean model:\n",
    "# [b, p, w, dmin, Tsw] = [0,2,3,4,6]\n",
    "\n",
    "train_X_radius_mean = train_data[:,[0,2,3,4,6]]\n",
    "train_y_radius_mean = train_data[:,-2]\n",
    "\n",
    "train_radius_mean_df = pd.DataFrame({\n",
    "    'b':     train_X_radius_mean[:,0], 'p':    train_X_radius_mean[:,1], 'w': train_X_radius_mean[:,2],\n",
    "    'd_min': train_X_radius_mean[:,3], 'T_sw': train_X_radius_mean[:,4], \n",
    "\n",
    "    'radius_mean': train_y_radius_mean})\n",
    "\n",
    "my_scatter = scatter_matrix(train_radius_mean_df, figsize = (10,10), alpha = 1, s = 10)\n",
    "\n",
    "# Save the figure (this can also be a path). As it stands now it will save in this codes directory.\n",
    "#plt.savefig(\"scatter_mean.pdf\")\n",
    "\n",
    "\n",
    "print(\"Radius mean correlation matrix\")\n",
    "train_radius_mean_df.corr().style.background_gradient(cmap = 'coolwarm').set_precision(3)"
   ]
  },
  {
   "cell_type": "code",
   "execution_count": null,
   "metadata": {
    "scrolled": true
   },
   "outputs": [],
   "source": [
    "# Feature selection for radius std model:\n",
    "# [b, p, w, sigmak] = [0,2,3,5]\n",
    "\n",
    "train_X_radius_std = train_data[:,[0,2,3,5]]\n",
    "train_y_radius_std = train_data[:,-1]\n",
    "\n",
    "train_radius_std_df = pd.DataFrame({\n",
    "    'b': train_X_radius_std[:,0], 'p':      train_X_radius_std[:,1], \n",
    "    'w': train_X_radius_std[:,2], 'sigmak': train_X_radius_std[:,3],\n",
    "\n",
    "    'radius_std': train_y_radius_std})\n",
    "\n",
    "my_scatter = scatter_matrix(train_radius_std_df, figsize = (10,10), alpha = 1, s = 10)\n",
    "\n",
    "print(\"Radius std correlation matrix\")\n",
    "train_radius_std_df.corr().style.background_gradient(cmap = 'coolwarm').set_precision(3)"
   ]
  },
  {
   "cell_type": "code",
   "execution_count": null,
   "metadata": {},
   "outputs": [],
   "source": []
  }
 ],
 "metadata": {
  "kernelspec": {
   "display_name": "Python 3",
   "language": "python",
   "name": "python3"
  },
  "language_info": {
   "codemirror_mode": {
    "name": "ipython",
    "version": 3
   },
   "file_extension": ".py",
   "mimetype": "text/x-python",
   "name": "python",
   "nbconvert_exporter": "python",
   "pygments_lexer": "ipython3",
   "version": "3.7.3"
  }
 },
 "nbformat": 4,
 "nbformat_minor": 2
}
