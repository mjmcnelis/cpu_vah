{
 "cells": [
  {
   "cell_type": "code",
   "execution_count": 2,
   "metadata": {},
   "outputs": [],
   "source": [
    "import numpy as np\n",
    "import os\n",
    "import matplotlib.pyplot as plt\n",
    "from matplotlib.ticker import ScalarFormatter\n",
    "import seaborn as sns\n",
    "import math"
   ]
  },
  {
   "cell_type": "code",
   "execution_count": 6,
   "metadata": {},
   "outputs": [
    {
     "data": {
      "image/png": "[encoded data removed]",
      "text/plain": [
       "<Figure size 432x360 with 1 Axes>"
      ]
     },
     "metadata": {
      "needs_background": "light"
     },
     "output_type": "display_data"
    },
    {
     "name": "stdout",
     "output_type": "stream",
     "text": [
      "\n",
      "Number of fixed grid runs = 10000\n",
      "Number of auto grid runs = 10000\n",
      "\n",
      "Mean runtime (fixed) = 75.0 seconds\n",
      "Mean runtime (auto)  = 49.9 seconds\n",
      "\n",
      "Max runtime (fixed) = 561.0 seconds\n",
      "Max runtime (auto)  = 320.0 seconds\n",
      "\n",
      "Speedup = 1.5\n",
      "\n",
      "Mean time per step (fixed) = 0.183 seconds\n",
      "Mean time per step (auto)  = 0.119 seconds\n",
      "\n",
      "Mean steps (fixed) = 350.0\n",
      "Mean steps (auto)  = 350.0\n"
     ]
    }
   ],
   "source": [
    "input_dir = '../tests/auto_grid/benchmark_test'\n",
    "\n",
    "hydro_mode = 'vh'\n",
    "parameter_samples = 200   # fixed\n",
    "\n",
    "runtime_fixed = []\n",
    "steps_fixed = []\n",
    "time_per_step_fixed = []\n",
    "\n",
    "runtime_auto  = []\n",
    "steps_auto = []\n",
    "time_per_step_auto = []\n",
    "\n",
    "for i in range(0, parameter_samples):\n",
    "    fixed_dir = input_dir + '/fixed_grid/' + hydro_mode + '/benchmarks/benchmarks_' + str(i+1) + '.dat' \n",
    "    auto_dir  = input_dir + '/auto_grid/'  + hydro_mode + '/benchmarks/benchmarks_' + str(i+1) + '.dat' \n",
    "    \n",
    "    if os.path.exists(fixed_dir):\n",
    "        benchmarks = np.loadtxt(fixed_dir).reshape(-1, 6)\n",
    "        runtime_fixed = np.append(runtime_fixed, benchmarks[:,1])\n",
    "        steps_fixed = np.append(steps_fixed, benchmarks[:,2])\n",
    "        time_per_step_fixed = np.append(time_per_step_fixed, benchmarks[:,3])\n",
    "        \n",
    "        \n",
    "    if os.path.exists(auto_dir):\n",
    "        benchmarks = np.loadtxt(auto_dir)\n",
    "        if hydro_mode == 'vah':\n",
    "            benchmarks = benchmarks.reshape(-1, 6)    # new data format\n",
    "       \n",
    "        runtime_auto = np.append(runtime_auto, benchmarks[:,1])\n",
    "        steps_auto = np.append(steps_auto, benchmarks[:,2])\n",
    "        time_per_step_auto = np.append(time_per_step_auto, benchmarks[:,3])\n",
    "\n",
    "tmax = 600\n",
    "\n",
    "if hydro_mode == 'vah':\n",
    "    tmax = 2000\n",
    "\n",
    "plt.figure(figsize=(6,5))\n",
    "plt.rc('xtick', labelsize=13)   \n",
    "plt.rc('ytick', labelsize=13)    \n",
    "plt.hist(runtime_fixed, bins = 50, alpha = 0.5, range = [0, tmax], label = 'Fixed grid', color = 'blue')\n",
    "plt.hist(runtime_auto,  bins = 50, alpha = 0.5, range = [0, tmax], label = 'Auto grid', color = 'red')\n",
    "plt.xlabel(\"Time (s)\", fontsize=16)\n",
    "plt.ylabel(\"Events\",fontsize=16)\n",
    "plt.xlim([0, tmax])\n",
    "plt.ylim([0.9, 10000])\n",
    "plt.xticks([0, 0.25*tmax, 0.5*tmax, 0.75*tmax, tmax])\n",
    "plt.yscale('log')\n",
    "plt.legend(prop={'size': 14}, frameon=False, bbox_to_anchor=(0.9,0.9), labelspacing=1)\n",
    "plt.savefig('figures/' + hydro_mode + '/benchmarks.pdf')\n",
    "plt.show()\n",
    "print()\n",
    "print('Number of fixed grid runs =', len(runtime_fixed))   \n",
    "print('Number of auto grid runs =', len(runtime_auto))\n",
    "print()\n",
    "print('Mean runtime (fixed) =', round(runtime_fixed.mean(), 1), 'seconds')\n",
    "print('Mean runtime (auto)  =', round(runtime_auto.mean(), 1),  'seconds')\n",
    "print()\n",
    "print('Max runtime (fixed) =', round(runtime_fixed.max()),  'seconds')\n",
    "print('Max runtime (auto)  =', round(runtime_auto.max()),   'seconds')\n",
    "print()\n",
    "print('Speedup =', round(runtime_fixed.mean() / runtime_auto.mean(), 2))\n",
    "print()\n",
    "print('Mean time per step (fixed) =', round(time_per_step_fixed.mean(), 3), 'seconds')\n",
    "print('Mean time per step (auto)  =', round(time_per_step_auto.mean(), 3),  'seconds')\n",
    "print()\n",
    "print('Mean steps (fixed) =', round(steps_fixed.mean()))\n",
    "print('Mean steps (auto)  =', round(steps_auto.mean()))"
   ]
  },
  {
   "cell_type": "code",
   "execution_count": null,
   "metadata": {},
   "outputs": [],
   "source": []
  }
 ],
 "metadata": {
  "kernelspec": {
   "display_name": "Python 3",
   "language": "python",
   "name": "python3"
  },
  "language_info": {
   "codemirror_mode": {
    "name": "ipython",
    "version": 3
   },
   "file_extension": ".py",
   "mimetype": "text/x-python",
   "name": "python",
   "nbconvert_exporter": "python",
   "pygments_lexer": "ipython3",
   "version": "3.7.3"
  }
 },
 "nbformat": 4,
 "nbformat_minor": 2
}
