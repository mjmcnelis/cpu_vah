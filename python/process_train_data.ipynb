{
 "cells": [
  {
   "cell_type": "code",
   "execution_count": 2,
   "metadata": {},
   "outputs": [],
   "source": [
    "import numpy as np\n",
    "import os"
   ]
  },
  {
   "cell_type": "code",
   "execution_count": 11,
   "metadata": {},
   "outputs": [
    {
     "name": "stdout",
     "output_type": "stream",
     "text": [
      "parameters =  [11.05865692 19.50212552  0.18817364  0.84870349  1.44918902  0.4284164\n",
      "  0.1408224   0.17900773  0.12708885 -1.12527684  1.71850821  0.15720717\n",
      "  0.1666321   0.11801109 -0.53684469] \n",
      "\n",
      "radius mean, radius std =  [9.864587299999998, 0.7435768944087155] \n",
      "\n",
      "train total data dimensions =  (1000, 17) \n",
      "\n",
      "[11.05865692 19.50212552  0.18817364  0.84870349  1.44918902  0.4284164\n",
      "  0.1408224   0.17900773  0.12708885 -1.12527684  1.71850821  0.15720717\n",
      "  0.1666321   0.11801109 -0.53684469  9.8645873   0.74357689]\n"
     ]
    }
   ],
   "source": [
    "samples = len(os.listdir('model_parameters'))\n",
    "\n",
    "parameters = np.loadtxt('model_parameters/model_parameters_1.dat')\n",
    "fireball   = np.loadtxt('../output/fireball_radius/fireball_radius_1.dat')\n",
    "\n",
    "print('parameters = ', parameters, '\\n')\n",
    "print('radius mean, radius std = ', [fireball[:,4].mean(),fireball[:,4].std()], '\\n')\n",
    "\n",
    "train_data = np.append(parameters, [fireball[:,4].mean(), fireball[:,4].std()]).reshape(1,-1)\n",
    "\n",
    "for n in range(1, samples):\n",
    "    parameters = np.loadtxt('model_parameters/model_parameters_' + str(n + 1) + '.dat')\n",
    "    fireball   = np.loadtxt('../output/fireball_radius/fireball_radius_' + str(n + 1) + '.dat')\n",
    "    \n",
    "    train_sample = np.append(parameters, [fireball[:,4].mean(), fireball[:,4].std()]).reshape(1,-1)\n",
    "    train_data   = np.concatenate((train_data, train_sample))\n",
    "\n",
    "print('train total data dimensions = ', train_data.shape, '\\n')\n",
    "print(train_data[0,:])\n",
    "\n",
    "# save train data\n",
    "np.savetxt('train/train_data.dat', train_data)"
   ]
  },
  {
   "cell_type": "code",
   "execution_count": null,
   "metadata": {},
   "outputs": [],
   "source": []
  }
 ],
 "metadata": {
  "kernelspec": {
   "display_name": "Python 3",
   "language": "python",
   "name": "python3"
  },
  "language_info": {
   "codemirror_mode": {
    "name": "ipython",
    "version": 3
   },
   "file_extension": ".py",
   "mimetype": "text/x-python",
   "name": "python",
   "nbconvert_exporter": "python",
   "pygments_lexer": "ipython3",
   "version": "3.7.3"
  }
 },
 "nbformat": 4,
 "nbformat_minor": 2
}
